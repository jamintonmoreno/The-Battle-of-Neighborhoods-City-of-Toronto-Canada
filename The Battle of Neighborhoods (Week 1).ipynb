{
    "cells": [
        {
            "metadata": {
                "collapsed": true
            },
            "cell_type": "markdown",
            "source": "\n# The Battle of Neighborhoods (Week 1)\n\nIn this notebook we will explore the city of Toronto looking for the best location for a new Italian food restaurant.\n\n# Introduction\nIn this project we will explore data from the city of Toronto.\n\nThe aim is to identify the best place to open a new Italian food restaurant in the city, which location would be the most appropriate taking into account the competitors and the inhabitants of the different neighborhoods of the city.\n\n# Business problem\n\nToronto is the most populous city in Canada, with a population of 2.9 million in 2017. Most are within the Greater Toronto Area (GTA). Toronto is the fastest growing city in North America and is the anchor of an urban agglomeration, known as the Golden Horseshoe in southern Ontario.\n\nToronto encompasses a geographic area formerly administered by many separate municipalities. Each of these townships has developed a distinct history and identity over the years, and their names remain in common use among Toronto residents. Former boroughs include East York, Etobicoke, Forest Hill, Mimico, North York, Parkdale, Scarborough, Swansea, Weston, and York. Throughout the city there are hundreds of small neighborhoods and some larger neighborhoods that cover a few square kilometers.\n\nHaving such a vast population and such a large geographical area, there is also great competition between companies. Therefore, it became a big challenge for stakeholders or startups to decide in which area they should start their business in order to earn higher income with as little competition as possible.\n\nTarget audience: Open an Italian food restaurant in Toronto.\n\nThis project tries to solve the previous problem by suggesting to the Target Public which is the best location to open the new restaurant and obtain the maximum profits."
        },
        {
            "metadata": {},
            "cell_type": "code",
            "source": "",
            "execution_count": null,
            "outputs": []
        }
    ],
    "metadata": {
        "kernelspec": {
            "name": "python3",
            "display_name": "Python 3.7",
            "language": "python"
        },
        "language_info": {
            "name": "python",
            "version": "3.7.9",
            "mimetype": "text/x-python",
            "codemirror_mode": {
                "name": "ipython",
                "version": 3
            },
            "pygments_lexer": "ipython3",
            "nbconvert_exporter": "python",
            "file_extension": ".py"
        }
    },
    "nbformat": 4,
    "nbformat_minor": 1
}